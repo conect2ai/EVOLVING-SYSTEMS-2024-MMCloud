{
  "cells": [
    {
      "cell_type": "markdown",
      "metadata": {},
      "source": [
        "# Car Fuel Classification"
      ]
    },
    {
      "cell_type": "markdown",
      "metadata": {},
      "source": [
        "## Importing Required Libraries"
      ]
    },
    {
      "cell_type": "code",
      "execution_count": null,
      "metadata": {
        "colab": {
          "base_uri": "https://localhost:8080/"
        },
        "id": "cRpimrgJSlXt",
        "outputId": "957fb529-a3bb-4969-a72c-32faa7e49305"
      },
      "outputs": [
        {
          "name": "stdout",
          "output_type": "stream",
          "text": [
            "Requirement already satisfied: scikit-learn in /usr/local/lib/python3.10/dist-packages (1.2.2)\n",
            "Collecting scikit-learn\n",
            "  Downloading scikit_learn-1.5.1-cp310-cp310-manylinux_2_17_x86_64.manylinux2014_x86_64.whl (13.4 MB)\n",
            "\u001b[2K     \u001b[90m━━━━━━━━━━━━━━━━━━━━━━━━━━━━━━━━━━━━━━━━\u001b[0m \u001b[32m13.4/13.4 MB\u001b[0m \u001b[31m63.0 MB/s\u001b[0m eta \u001b[36m0:00:00\u001b[0m\n",
            "\u001b[?25hRequirement already satisfied: numpy>=1.19.5 in /usr/local/lib/python3.10/dist-packages (from scikit-learn) (1.25.2)\n",
            "Requirement already satisfied: scipy>=1.6.0 in /usr/local/lib/python3.10/dist-packages (from scikit-learn) (1.11.4)\n",
            "Requirement already satisfied: joblib>=1.2.0 in /usr/local/lib/python3.10/dist-packages (from scikit-learn) (1.4.2)\n",
            "Requirement already satisfied: threadpoolctl>=3.1.0 in /usr/local/lib/python3.10/dist-packages (from scikit-learn) (3.5.0)\n",
            "Installing collected packages: scikit-learn\n",
            "  Attempting uninstall: scikit-learn\n",
            "    Found existing installation: scikit-learn 1.2.2\n",
            "    Uninstalling scikit-learn-1.2.2:\n",
            "      Successfully uninstalled scikit-learn-1.2.2\n",
            "Successfully installed scikit-learn-1.5.1\n"
          ]
        }
      ],
      "source": [
        "!pip install -U scikit-learn"
      ]
    },
    {
      "cell_type": "code",
      "execution_count": null,
      "metadata": {
        "id": "2wK_YLLDU-RO"
      },
      "outputs": [],
      "source": [
        "import pandas as pd\n",
        "import numpy as np\n",
        "import seaborn as sns\n",
        "import matplotlib.pyplot as plt\n",
        "import os\n",
        "from sklearn.model_selection import train_test_split\n",
        "\n",
        "from sklearn.ensemble import (\n",
        "    RandomForestClassifier,\n",
        "    GradientBoostingClassifier,\n",
        "    AdaBoostClassifier,\n",
        "    ExtraTreesClassifier,\n",
        "    BaggingClassifier,\n",
        ")\n",
        "from sklearn.svm import SVC, NuSVC, LinearSVC\n",
        "from sklearn.tree import DecisionTreeClassifier\n",
        "from sklearn.neighbors import KNeighborsClassifier, RadiusNeighborsClassifier\n",
        "from sklearn.naive_bayes import GaussianNB, MultinomialNB, BernoulliNB, ComplementNB\n",
        "from sklearn.linear_model import LogisticRegression, LogisticRegressionCV\n",
        "from sklearn.neural_network import MLPClassifier\n",
        "from sklearn.gaussian_process import GaussianProcessClassifier\n",
        "from sklearn.linear_model import SGDClassifier, Perceptron\n",
        "from sklearn.metrics import classification_report, confusion_matrix, accuracy_score\n",
        "from sklearn.discriminant_analysis import QuadraticDiscriminantAnalysis, LinearDiscriminantAnalysis\n",
        "from sklearn.ensemble import VotingClassifier"
      ]
    },
    {
      "cell_type": "markdown",
      "metadata": {},
      "source": [
        "## Defining the functions and methods to be used"
      ]
    },
    {
      "cell_type": "code",
      "execution_count": null,
      "metadata": {
        "id": "0JZo2qz6Sn7f"
      },
      "outputs": [],
      "source": [
        "def get_list_paths(path: str, start_char: str = None) -> list:\n",
        "    \"\"\"\n",
        "    Get the list of paths from a directory, optionally filtering files that start with a specific character.\n",
        "\n",
        "    Args:\n",
        "        path (str): Path to the directory.\n",
        "        start_char (str, optional): The character with which the files should start. Defaults to None.\n",
        "\n",
        "    Returns:\n",
        "        list: List of paths to files ending with '.csv'. If 'start_char' is provided, only files that start with that character will be included.\n",
        "    \"\"\"\n",
        "\n",
        "    if start_char:\n",
        "        return [os.path.join(path, file) for file in os.listdir(path) if file.startswith(start_char) and file.endswith(\".csv\")]\n",
        "    else:\n",
        "        return [os.path.join(path, file) for file in os.listdir(path) if file.endswith(\".csv\")]\n",
        "\n",
        "\n",
        "def read_selected_data(list_paths: list, columns: list) -> pd.DataFrame:\n",
        "  \"\"\"\n",
        "    Read all the data with .csv extension from the list of paths and return a list of dataframes,\n",
        "    selecting only specified columns.\n",
        "\n",
        "    Args:\n",
        "        list_paths (list): List of paths to the data.\n",
        "        columns (list): List of columns to be included in the returned dataframes.\n",
        "\n",
        "    Returns:\n",
        "        list: List of dataframes (one dataframe per file), with selected columns.\n",
        "  \"\"\"\n",
        "  # List comprehension to read each csv file and select only the specified columns\n",
        "  return [pd.read_csv(path, usecols=columns) for path in list_paths if \".csv\" in path]\n",
        "\n",
        "def concatenate_dataframes(list_df: list) -> pd.DataFrame:\n",
        "    \"\"\"\n",
        "    Concatenate a list of dataframes.\n",
        "\n",
        "    Args:\n",
        "        list_df (list): List of dataframes.\n",
        "\n",
        "    Returns:\n",
        "        pd.DataFrame: Dataframe with all the dataframes concatenated.\n",
        "    \"\"\"\n",
        "\n",
        "    return pd.concat(list_df, ignore_index=True)\n",
        "\n",
        "def is_convertible_to_float(value):\n",
        "    try:\n",
        "        float(value)\n",
        "        return True\n",
        "    except (ValueError, TypeError):\n",
        "        return False\n",
        "\n",
        "# Split\n",
        "def split_data(df, train_size, valid_size, test_size):\n",
        "    # Primeira divisão: separando treino do restante\n",
        "    df_train, df_temp = train_test_split(df, train_size=train_size, shuffle=True, random_state=42)\n",
        "    # Ajustando as proporções para a divisão seguinte\n",
        "    proportion = valid_size / (valid_size + test_size)\n",
        "    # Segunda divisão: separando validação e teste\n",
        "    df_valid, df_test = train_test_split(df_temp, train_size=proportion, shuffle=True, random_state=42)\n",
        "    return df_train, df_valid, df_test\n",
        "\n",
        "\n",
        "# Data Shift\n",
        "def split_columns_into_three(df, column_names, classification_column):\n",
        "    new_df = pd.DataFrame()\n",
        "\n",
        "    for column_name in column_names:\n",
        "        # Create new column names\n",
        "        col_t0 = f\"{column_name}_(t-2)\"\n",
        "        col_t1 = f\"{column_name}_(t-1)\"\n",
        "        col_t2 = f\"{column_name}_(t)\"\n",
        "\n",
        "        # Create new columns based on the original column\n",
        "        new_df[col_t0] = df[column_name]\n",
        "        new_df[col_t1] = df[column_name].shift(-1)\n",
        "        new_df[col_t2] = df[column_name].shift(-2)\n",
        "\n",
        "    # Drop rows with NaN values (optional, depending on your needs)\n",
        "    new_df.dropna(inplace=True)\n",
        "\n",
        "    # Add the classification column without shifting\n",
        "    new_df[classification_column] = df[classification_column][:len(new_df)].values\n",
        "\n",
        "    return new_df\n",
        "\n",
        "# Remove non numeric data and convert coluns to number\n",
        "def convert_to_numeric(df):\n",
        "    for column in df.columns:\n",
        "        df[column] = pd.to_numeric(df[column], errors='coerce')\n",
        "    return df.dropna()"
      ]
    },
    {
      "cell_type": "markdown",
      "metadata": {
        "id": "pm_dkYGCzRDM"
      },
      "source": [
        "## Train test split"
      ]
    },
    {
      "cell_type": "markdown",
      "metadata": {},
      "source": [
        "### Selecting columns from a the Training and Validation Data"
      ]
    },
    {
      "cell_type": "code",
      "execution_count": null,
      "metadata": {
        "id": "feGMyxHe0-jD"
      },
      "outputs": [],
      "source": [
        "from sklearn.model_selection import train_test_split\n",
        "\n",
        "ethanol_data_final = pd.read_csv('ethanol_fuelType.csv')\n",
        "gasoline_data_final = pd.read_csv('gasoline_fuelType.csv')"
      ]
    },
    {
      "cell_type": "code",
      "execution_count": null,
      "metadata": {
        "colab": {
          "base_uri": "https://localhost:8080/"
        },
        "id": "a5RHKaJKzQj0",
        "outputId": "53a06c4f-8b9d-4fc9-f29f-11a1a4bd6403"
      },
      "outputs": [
        {
          "name": "stdout",
          "output_type": "stream",
          "text": [
            "Distribuição em treino:\n",
            " FuelType\n",
            "1    331556\n",
            "0     73946\n",
            "Name: count, dtype: int64\n",
            "\n",
            "Distribuição em validação:\n",
            " FuelType\n",
            "1    49734\n",
            "0    11091\n",
            "Name: count, dtype: int64\n",
            "\n",
            "Distribuição em teste:\n",
            " FuelType\n",
            "1    33156\n",
            "0     7395\n",
            "Name: count, dtype: int64\n"
          ]
        }
      ],
      "source": [
        "# Concatenar os datasets de etanol e gasolina\n",
        "full_data = pd.concat([ethanol_data_final, gasoline_data_final], ignore_index=True)\n",
        "\n",
        "# Dividir o dataset em treino (80%) e o resto (20%)\n",
        "train_data, temp_data = train_test_split(full_data, test_size=0.2, stratify=full_data['FuelType'])\n",
        "\n",
        "# Dividir o resto em validação (60% de 20%, ou seja, 12% do total) e teste (40% de 20%, ou seja, 8% do total)\n",
        "validation_data, test_data = train_test_split(temp_data, test_size=0.4, stratify=temp_data['FuelType'])\n",
        "\n",
        "# Verificar a distribuição das classes em cada subset\n",
        "print(\"Distribuição em treino:\\n\", train_data['FuelType'].value_counts())\n",
        "print(\"\\nDistribuição em validação:\\n\", validation_data['FuelType'].value_counts())\n",
        "print(\"\\nDistribuição em teste:\\n\", test_data['FuelType'].value_counts())\n"
      ]
    },
    {
      "cell_type": "code",
      "execution_count": null,
      "metadata": {
        "colab": {
          "base_uri": "https://localhost:8080/"
        },
        "id": "rjaP09ihYi6z",
        "outputId": "24008e32-8799-4571-b5cd-04bd29d9e0a2"
      },
      "outputs": [
        {
          "data": {
            "text/plain": [
              "['EngineLoad_(t-2)',\n",
              " 'EngineLoad_(t-1)',\n",
              " 'EngineLoad_(t)',\n",
              " 'EngineRPM_(t-2)',\n",
              " 'EngineRPM_(t-1)',\n",
              " 'EngineRPM_(t)',\n",
              " 'SpeedOBD_(t-2)',\n",
              " 'SpeedOBD_(t-1)',\n",
              " 'SpeedOBD_(t)',\n",
              " 'ThrottlePosition_(t-2)',\n",
              " 'ThrottlePosition_(t-1)',\n",
              " 'ThrottlePosition_(t)',\n",
              " 'TimingAdvance_(t-2)',\n",
              " 'TimingAdvance_(t-1)',\n",
              " 'TimingAdvance_(t)',\n",
              " 'FuelType']"
            ]
          },
          "execution_count": 13,
          "metadata": {},
          "output_type": "execute_result"
        }
      ],
      "source": [
        "test_data.columns.to_list()"
      ]
    },
    {
      "cell_type": "code",
      "execution_count": null,
      "metadata": {
        "colab": {
          "base_uri": "https://localhost:8080/"
        },
        "id": "hjw6k0_I1N23",
        "outputId": "d189a4ee-f4ec-449f-d9be-e6c2c907ae51"
      },
      "outputs": [
        {
          "name": "stdout",
          "output_type": "stream",
          "text": [
            "Coluna: EngineLoad_(t-2), Média: 34.0430989162089, Desvio Padrão: 23.172842009545292\n",
            "Coluna: EngineLoad_(t-1), Média: 34.05292408181891, Desvio Padrão: 23.17732262154569\n",
            "Coluna: EngineLoad_(t), Média: 34.065653447269995, Desvio Padrão: 23.19079196688356\n",
            "Coluna: EngineRPM_(t-2), Média: 1619.2306745712722, Desvio Padrão: 670.8209472937956\n",
            "Coluna: EngineRPM_(t-1), Média: 1619.3330291835798, Desvio Padrão: 670.7766090391244\n",
            "Coluna: EngineRPM_(t), Média: 1619.3625037607706, Desvio Padrão: 670.7717291743279\n",
            "Coluna: SpeedOBD_(t-2), Média: 43.51039205725249, Desvio Padrão: 35.53271211739068\n",
            "Coluna: SpeedOBD_(t-1), Média: 43.51028108369379, Desvio Padrão: 35.53135209785578\n",
            "Coluna: SpeedOBD_(t), Média: 43.515477112320035, Desvio Padrão: 35.529159974509525\n",
            "Coluna: ThrottlePosition_(t-2), Média: 19.613544437299744, Desvio Padrão: 8.219163033503852\n",
            "Coluna: ThrottlePosition_(t-1), Média: 19.61740183080767, Desvio Padrão: 8.224078127798172\n",
            "Coluna: ThrottlePosition_(t), Média: 19.62102281988043, Desvio Padrão: 8.230596211714088\n",
            "Coluna: TimingAdvance_(t-2), Média: 12.300633535716223, Desvio Padrão: 12.31699692357546\n",
            "Coluna: TimingAdvance_(t-1), Média: 12.299612578976182, Desvio Padrão: 12.316908727395955\n",
            "Coluna: TimingAdvance_(t), Média: 12.29869889667622, Desvio Padrão: 12.30976431807533\n",
            "Coluna: EngineLoad_(t-2), Média: 33.97633294283124, Desvio Padrão: 23.09802305387641\n",
            "Coluna: EngineLoad_(t-1), Média: 33.96225981406087, Desvio Padrão: 23.120974955009014\n",
            "Coluna: EngineLoad_(t), Média: 33.87579648248524, Desvio Padrão: 23.08977542959217\n",
            "Coluna: EngineRPM_(t-2), Média: 1619.4206946157008, Desvio Padrão: 668.4313375926457\n",
            "Coluna: EngineRPM_(t-1), Média: 1618.6888943690917, Desvio Padrão: 668.8157429548044\n",
            "Coluna: EngineRPM_(t), Média: 1618.7292642827786, Desvio Padrão: 669.424543041714\n",
            "Coluna: SpeedOBD_(t-2), Média: 43.54656802301685, Desvio Padrão: 35.41019803093747\n",
            "Coluna: SpeedOBD_(t-1), Média: 43.557616111796136, Desvio Padrão: 35.40915752145661\n",
            "Coluna: SpeedOBD_(t), Média: 43.543888203863546, Desvio Padrão: 35.410647641199574\n",
            "Coluna: ThrottlePosition_(t-2), Média: 19.628127654571983, Desvio Padrão: 8.280359049343053\n",
            "Coluna: ThrottlePosition_(t-1), Média: 19.617164166894373, Desvio Padrão: 8.276078159355368\n",
            "Coluna: ThrottlePosition_(t), Média: 19.59894340393822, Desvio Padrão: 8.241456068488842\n",
            "Coluna: TimingAdvance_(t-2), Média: 12.393349773941637, Desvio Padrão: 12.297007329182636\n",
            "Coluna: TimingAdvance_(t-1), Média: 12.373103164817099, Desvio Padrão: 12.294105492853909\n",
            "Coluna: TimingAdvance_(t), Média: 12.38793259350596, Desvio Padrão: 12.364388903518238\n",
            "Coluna: EngineLoad_(t-2), Média: 33.94765142688828, Desvio Padrão: 23.270543693244182\n",
            "Coluna: EngineLoad_(t-1), Média: 33.84969721738702, Desvio Padrão: 23.19233181668979\n",
            "Coluna: EngineLoad_(t), Média: 33.8368767307158, Desvio Padrão: 23.10710855650643\n",
            "Coluna: EngineRPM_(t-2), Média: 1621.2666642006363, Desvio Padrão: 672.3554616982772\n",
            "Coluna: EngineRPM_(t-1), Média: 1620.8976165815886, Desvio Padrão: 672.4741299506996\n",
            "Coluna: EngineRPM_(t), Média: 1619.7145693077853, Desvio Padrão: 672.1910516861197\n",
            "Coluna: SpeedOBD_(t-2), Média: 43.60324036398609, Desvio Padrão: 35.558118152752876\n",
            "Coluna: SpeedOBD_(t-1), Média: 43.57823481541762, Desvio Padrão: 35.57956629315593\n",
            "Coluna: SpeedOBD_(t), Média: 43.530640428102885, Desvio Padrão: 35.603269387852876\n",
            "Coluna: ThrottlePosition_(t-2), Média: 19.598053640974335, Desvio Padrão: 8.242247106764896\n",
            "Coluna: ThrottlePosition_(t-1), Média: 19.573032034763933, Desvio Padrão: 8.207424838666263\n",
            "Coluna: ThrottlePosition_(t), Média: 19.55931882124101, Desvio Padrão: 8.203751647857095\n",
            "Coluna: TimingAdvance_(t-2), Média: 12.298549974106681, Desvio Padrão: 12.301982091195534\n",
            "Coluna: TimingAdvance_(t-1), Média: 12.334073142462579, Desvio Padrão: 12.305122399475271\n",
            "Coluna: TimingAdvance_(t), Média: 12.33371556805011, Desvio Padrão: 12.272402695397972\n"
          ]
        }
      ],
      "source": [
        "# Selecionar colunas para normalização\n",
        "feature_columns = ['EngineLoad_(t-2)', 'EngineLoad_(t-1)', 'EngineLoad_(t)',\n",
        "                   'EngineRPM_(t-2)', 'EngineRPM_(t-1)', 'EngineRPM_(t)',\n",
        "                   'SpeedOBD_(t-2)', 'SpeedOBD_(t-1)', 'SpeedOBD_(t)',\n",
        "                   'ThrottlePosition_(t-2)', 'ThrottlePosition_(t-1)', 'ThrottlePosition_(t)',\n",
        "                   'TimingAdvance_(t-2)', 'TimingAdvance_(t-1)', 'TimingAdvance_(t)']\n",
        "\n",
        "# Lista para armazenar a média e o desvio padrão de cada coluna\n",
        "scaler_stats = []\n",
        "\n",
        "# Função para normalizar as colunas\n",
        "def custom_standard_scaler(df, feature_columns):\n",
        "    for column in feature_columns:\n",
        "        mean = df[column].mean()\n",
        "        std = df[column].std()\n",
        "        df[column] = (df[column] - mean) / std\n",
        "        scaler_stats.append((column, mean, std))\n",
        "\n",
        "# Aplicar a função de normalização\n",
        "custom_standard_scaler(train_data, feature_columns)\n",
        "custom_standard_scaler(validation_data, feature_columns)\n",
        "custom_standard_scaler(test_data, feature_columns)\n",
        "\n",
        "# Verificar os valores armazenados\n",
        "for stat in scaler_stats:\n",
        "    print(f\"Coluna: {stat[0]}, Média: {stat[1]}, Desvio Padrão: {stat[2]}\")\n"
      ]
    },
    {
      "cell_type": "code",
      "execution_count": null,
      "metadata": {
        "id": "GZOmfhlg2lDN"
      },
      "outputs": [],
      "source": [
        "#train_data.to_csv('Norm_Train_Dataset.csv', index=False)\n",
        "#validation_data.to_csv('Norm_Valid_Dataset.csv', index=False)\n",
        "test_data.to_csv('Norm_Test_Dataset.csv', index=False)"
      ]
    },
    {
      "cell_type": "code",
      "execution_count": null,
      "metadata": {
        "id": "IpTd596Q3vYJ"
      },
      "outputs": [],
      "source": [
        "seed = 2610"
      ]
    },
    {
      "cell_type": "code",
      "execution_count": null,
      "metadata": {
        "colab": {
          "base_uri": "https://localhost:8080/"
        },
        "id": "k9uKSRgn36Qn",
        "outputId": "fbaa7010-f779-456f-f0cb-54dd21ce0ac9"
      },
      "outputs": [
        {
          "data": {
            "text/plain": [
              "Index(['EngineLoad_(t-2)', 'EngineLoad_(t-1)', 'EngineLoad_(t)',\n",
              "       'EngineRPM_(t-2)', 'EngineRPM_(t-1)', 'EngineRPM_(t)', 'SpeedOBD_(t-2)',\n",
              "       'SpeedOBD_(t-1)', 'SpeedOBD_(t)', 'ThrottlePosition_(t-2)',\n",
              "       'ThrottlePosition_(t-1)', 'ThrottlePosition_(t)', 'TimingAdvance_(t-2)',\n",
              "       'TimingAdvance_(t-1)', 'TimingAdvance_(t)', 'FuelType'],\n",
              "      dtype='object')"
            ]
          },
          "execution_count": 71,
          "metadata": {},
          "output_type": "execute_result"
        }
      ],
      "source": [
        "train_data.columns"
      ]
    },
    {
      "cell_type": "code",
      "execution_count": null,
      "metadata": {
        "id": "TDnfTStw32E3"
      },
      "outputs": [],
      "source": [
        "X_train = train_data[['EngineLoad_(t-2)', 'EngineLoad_(t-1)', 'EngineLoad_(t)',\n",
        "                    'EngineRPM_(t-2)', 'EngineRPM_(t-1)', 'EngineRPM_(t)',\n",
        "                    'SpeedOBD_(t-2)','SpeedOBD_(t-1)', 'SpeedOBD_(t)',\n",
        "                    'ThrottlePosition_(t-2)', 'ThrottlePosition_(t-1)', 'ThrottlePosition_(t)',\n",
        "                    'TimingAdvance_(t-2)', 'TimingAdvance_(t-1)', 'TimingAdvance_(t)']]\n",
        "y_train = train_data['FuelType']\n",
        "\n",
        "X_valid = validation_data[['EngineLoad_(t-2)', 'EngineLoad_(t-1)', 'EngineLoad_(t)',\n",
        "                    'EngineRPM_(t-2)', 'EngineRPM_(t-1)', 'EngineRPM_(t)',\n",
        "                    'SpeedOBD_(t-2)','SpeedOBD_(t-1)', 'SpeedOBD_(t)',\n",
        "                    'ThrottlePosition_(t-2)', 'ThrottlePosition_(t-1)', 'ThrottlePosition_(t)',\n",
        "                    'TimingAdvance_(t-2)', 'TimingAdvance_(t-1)', 'TimingAdvance_(t)']]\n",
        "y_valid = validation_data['FuelType']"
      ]
    },
    {
      "cell_type": "code",
      "execution_count": null,
      "metadata": {
        "colab": {
          "base_uri": "https://localhost:8080/"
        },
        "id": "EV5pL65s4UO9",
        "outputId": "05ffc98c-7cc2-45eb-f9ce-d5be815dd018"
      },
      "outputs": [
        {
          "name": "stdout",
          "output_type": "stream",
          "text": [
            "Size of X_train: 164688\n",
            "Size of y_train: 164688\n",
            "Size of X_valid: 24703\n",
            "Size of y_valid: 24703\n",
            "Unic classes in y_valid: [0 1]\n",
            "Unic classes in y_valid: [0 1]\n"
          ]
        }
      ],
      "source": [
        "print(\"Size of X_train:\", len(X_train))\n",
        "print(\"Size of y_train:\", len(y_train))\n",
        "print(\"Size of X_valid:\", len(X_valid))\n",
        "print(\"Size of y_valid:\", len(y_valid))\n",
        "\n",
        "print(\"Unic classes in y_valid:\", y_train.unique())\n",
        "print(\"Unic classes in y_valid:\", y_valid.unique())"
      ]
    },
    {
      "cell_type": "code",
      "execution_count": null,
      "metadata": {
        "id": "dmzz1s5a4W3F"
      },
      "outputs": [],
      "source": [
        "classifiers = {\n",
        "    \"Random Forest\": RandomForestClassifier(random_state=seed),\n",
        "    \"Decision Tree\": DecisionTreeClassifier(random_state=seed),\n",
        "    \"KNN\": KNeighborsClassifier(),\n",
        "    \"Logistic Regression\": LogisticRegression(random_state=seed),\n",
        "    \"Naive Bayes (Gaussian)\": GaussianNB(),\n",
        "    \"Naive Bayes (Bernoulli)\": BernoulliNB(),\n",
        "    \"Gradient Boosting\": GradientBoostingClassifier(random_state=seed),\n",
        "    \"AdaBoost\": AdaBoostClassifier(random_state=seed),\n",
        "    \"Extra Trees\": ExtraTreesClassifier(random_state=seed)\n",
        "}"
      ]
    },
    {
      "cell_type": "code",
      "execution_count": null,
      "metadata": {
        "colab": {
          "base_uri": "https://localhost:8080/"
        },
        "id": "8NRut8HV4YQ_",
        "outputId": "e744a273-2ac5-4879-84b5-73c89ae7be82"
      },
      "outputs": [
        {
          "name": "stdout",
          "output_type": "stream",
          "text": [
            "Model name: Random Forest\n",
            "Classifier: RandomForestClassifier(random_state=2610) \n",
            "\n",
            "Model name: Decision Tree\n",
            "Classifier: DecisionTreeClassifier(random_state=2610) \n",
            "\n",
            "Model name: KNN\n",
            "Classifier: KNeighborsClassifier() \n",
            "\n",
            "Model name: Logistic Regression\n",
            "Classifier: LogisticRegression(random_state=2610) \n",
            "\n",
            "Model name: Naive Bayes (Gaussian)\n",
            "Classifier: GaussianNB() \n",
            "\n",
            "Model name: Naive Bayes (Bernoulli)\n",
            "Classifier: BernoulliNB() \n",
            "\n",
            "Model name: Gradient Boosting\n",
            "Classifier: GradientBoostingClassifier(random_state=2610) \n",
            "\n",
            "Model name: AdaBoost\n",
            "Classifier: AdaBoostClassifier(random_state=2610) \n",
            "\n"
          ]
        },
        {
          "name": "stderr",
          "output_type": "stream",
          "text": [
            "/usr/local/lib/python3.10/dist-packages/sklearn/ensemble/_weight_boosting.py:527: FutureWarning: The SAMME.R algorithm (the default) is deprecated and will be removed in 1.6. Use the SAMME algorithm to circumvent this warning.\n",
            "  warnings.warn(\n"
          ]
        },
        {
          "name": "stdout",
          "output_type": "stream",
          "text": [
            "Model name: Extra Trees\n",
            "Classifier: ExtraTreesClassifier(random_state=2610) \n",
            "\n"
          ]
        }
      ],
      "source": [
        "results = []\n",
        "\n",
        "for name, clf in classifiers.items():\n",
        "  print(\"Model name:\", name)\n",
        "  print(f\"Classifier: {clf} \\n\")\n",
        "  clf.fit(X_train, y_train)\n",
        "  y_pred = clf.predict(X_valid)\n",
        "  report = classification_report(y_valid, y_pred, output_dict=True)\n",
        "  confusion = confusion_matrix(y_valid, y_pred)\n",
        "  results.append({\n",
        "      \"Classifier\": name,\n",
        "      \"Classification Report\": report,\n",
        "      \"Confusion Matrix\": confusion\n",
        "  })"
      ]
    },
    {
      "cell_type": "code",
      "execution_count": null,
      "metadata": {
        "colab": {
          "base_uri": "https://localhost:8080/",
          "height": 827
        },
        "id": "g08jHX396FT_",
        "outputId": "97ba8774-81e1-4db5-ce71-e3106c5cdbae"
      },
      "outputs": [
        {
          "data": {
            "application/vnd.google.colaboratory.intrinsic+json": {
              "summary": "{\n  \"name\": \"results_df\",\n  \"rows\": 9,\n  \"fields\": [\n    {\n      \"column\": \"Classifier\",\n      \"properties\": {\n        \"dtype\": \"string\",\n        \"num_unique_values\": 9,\n        \"samples\": [\n          \"AdaBoost\",\n          \"Decision Tree\",\n          \"Naive Bayes (Bernoulli)\"\n        ],\n        \"semantic_type\": \"\",\n        \"description\": \"\"\n      }\n    },\n    {\n      \"column\": \"Classification Report\",\n      \"properties\": {\n        \"dtype\": \"object\",\n        \"semantic_type\": \"\",\n        \"description\": \"\"\n      }\n    },\n    {\n      \"column\": \"Confusion Matrix\",\n      \"properties\": {\n        \"dtype\": \"object\",\n        \"semantic_type\": \"\",\n        \"description\": \"\"\n      }\n    }\n  ]\n}",
              "type": "dataframe",
              "variable_name": "results_df"
            },
            "text/html": [
              "\n",
              "  <div id=\"df-e0fae547-0739-49e5-bf61-ca22bb2ef678\" class=\"colab-df-container\">\n",
              "    <div>\n",
              "<style scoped>\n",
              "    .dataframe tbody tr th:only-of-type {\n",
              "        vertical-align: middle;\n",
              "    }\n",
              "\n",
              "    .dataframe tbody tr th {\n",
              "        vertical-align: top;\n",
              "    }\n",
              "\n",
              "    .dataframe thead th {\n",
              "        text-align: right;\n",
              "    }\n",
              "</style>\n",
              "<table border=\"1\" class=\"dataframe\">\n",
              "  <thead>\n",
              "    <tr style=\"text-align: right;\">\n",
              "      <th></th>\n",
              "      <th>Classifier</th>\n",
              "      <th>Classification Report</th>\n",
              "      <th>Confusion Matrix</th>\n",
              "    </tr>\n",
              "  </thead>\n",
              "  <tbody>\n",
              "    <tr>\n",
              "      <th>0</th>\n",
              "      <td>Random Forest</td>\n",
              "      <td>{'0': {'precision': 0.9536598209583992, 'recal...</td>\n",
              "      <td>[[9055, 2050], [440, 13158]]</td>\n",
              "    </tr>\n",
              "    <tr>\n",
              "      <th>1</th>\n",
              "      <td>Decision Tree</td>\n",
              "      <td>{'0': {'precision': 0.8263119665879789, 'recal...</td>\n",
              "      <td>[[9101, 2004], [1913, 11685]]</td>\n",
              "    </tr>\n",
              "    <tr>\n",
              "      <th>2</th>\n",
              "      <td>KNN</td>\n",
              "      <td>{'0': {'precision': 0.8921854571055013, 'recal...</td>\n",
              "      <td>[[8871, 2234], [1072, 12526]]</td>\n",
              "    </tr>\n",
              "    <tr>\n",
              "      <th>3</th>\n",
              "      <td>Logistic Regression</td>\n",
              "      <td>{'0': {'precision': 0.8465708522440747, 'recal...</td>\n",
              "      <td>[[6715, 4390], [1217, 12381]]</td>\n",
              "    </tr>\n",
              "    <tr>\n",
              "      <th>4</th>\n",
              "      <td>Naive Bayes (Gaussian)</td>\n",
              "      <td>{'0': {'precision': 0.8204665161775772, 'recal...</td>\n",
              "      <td>[[5452, 5653], [1193, 12405]]</td>\n",
              "    </tr>\n",
              "    <tr>\n",
              "      <th>5</th>\n",
              "      <td>Naive Bayes (Bernoulli)</td>\n",
              "      <td>{'0': {'precision': 0.590179254099057, 'recall...</td>\n",
              "      <td>[[6947, 4158], [4824, 8774]]</td>\n",
              "    </tr>\n",
              "    <tr>\n",
              "      <th>6</th>\n",
              "      <td>Gradient Boosting</td>\n",
              "      <td>{'0': {'precision': 0.9417442261289211, 'recal...</td>\n",
              "      <td>[[8196, 2909], [507, 13091]]</td>\n",
              "    </tr>\n",
              "    <tr>\n",
              "      <th>7</th>\n",
              "      <td>AdaBoost</td>\n",
              "      <td>{'0': {'precision': 0.8952808988764045, 'recal...</td>\n",
              "      <td>[[7968, 3137], [932, 12666]]</td>\n",
              "    </tr>\n",
              "    <tr>\n",
              "      <th>8</th>\n",
              "      <td>Extra Trees</td>\n",
              "      <td>{'0': {'precision': 0.9711431742508324, 'recal...</td>\n",
              "      <td>[[8750, 2355], [260, 13338]]</td>\n",
              "    </tr>\n",
              "  </tbody>\n",
              "</table>\n",
              "</div>\n",
              "    <div class=\"colab-df-buttons\">\n",
              "\n",
              "  <div class=\"colab-df-container\">\n",
              "    <button class=\"colab-df-convert\" onclick=\"convertToInteractive('df-e0fae547-0739-49e5-bf61-ca22bb2ef678')\"\n",
              "            title=\"Convert this dataframe to an interactive table.\"\n",
              "            style=\"display:none;\">\n",
              "\n",
              "  <svg xmlns=\"http://www.w3.org/2000/svg\" height=\"24px\" viewBox=\"0 -960 960 960\">\n",
              "    <path d=\"M120-120v-720h720v720H120Zm60-500h600v-160H180v160Zm220 220h160v-160H400v160Zm0 220h160v-160H400v160ZM180-400h160v-160H180v160Zm440 0h160v-160H620v160ZM180-180h160v-160H180v160Zm440 0h160v-160H620v160Z\"/>\n",
              "  </svg>\n",
              "    </button>\n",
              "\n",
              "  <style>\n",
              "    .colab-df-container {\n",
              "      display:flex;\n",
              "      gap: 12px;\n",
              "    }\n",
              "\n",
              "    .colab-df-convert {\n",
              "      background-color: #E8F0FE;\n",
              "      border: none;\n",
              "      border-radius: 50%;\n",
              "      cursor: pointer;\n",
              "      display: none;\n",
              "      fill: #1967D2;\n",
              "      height: 32px;\n",
              "      padding: 0 0 0 0;\n",
              "      width: 32px;\n",
              "    }\n",
              "\n",
              "    .colab-df-convert:hover {\n",
              "      background-color: #E2EBFA;\n",
              "      box-shadow: 0px 1px 2px rgba(60, 64, 67, 0.3), 0px 1px 3px 1px rgba(60, 64, 67, 0.15);\n",
              "      fill: #174EA6;\n",
              "    }\n",
              "\n",
              "    .colab-df-buttons div {\n",
              "      margin-bottom: 4px;\n",
              "    }\n",
              "\n",
              "    [theme=dark] .colab-df-convert {\n",
              "      background-color: #3B4455;\n",
              "      fill: #D2E3FC;\n",
              "    }\n",
              "\n",
              "    [theme=dark] .colab-df-convert:hover {\n",
              "      background-color: #434B5C;\n",
              "      box-shadow: 0px 1px 3px 1px rgba(0, 0, 0, 0.15);\n",
              "      filter: drop-shadow(0px 1px 2px rgba(0, 0, 0, 0.3));\n",
              "      fill: #FFFFFF;\n",
              "    }\n",
              "  </style>\n",
              "\n",
              "    <script>\n",
              "      const buttonEl =\n",
              "        document.querySelector('#df-e0fae547-0739-49e5-bf61-ca22bb2ef678 button.colab-df-convert');\n",
              "      buttonEl.style.display =\n",
              "        google.colab.kernel.accessAllowed ? 'block' : 'none';\n",
              "\n",
              "      async function convertToInteractive(key) {\n",
              "        const element = document.querySelector('#df-e0fae547-0739-49e5-bf61-ca22bb2ef678');\n",
              "        const dataTable =\n",
              "          await google.colab.kernel.invokeFunction('convertToInteractive',\n",
              "                                                    [key], {});\n",
              "        if (!dataTable) return;\n",
              "\n",
              "        const docLinkHtml = 'Like what you see? Visit the ' +\n",
              "          '<a target=\"_blank\" href=https://colab.research.google.com/notebooks/data_table.ipynb>data table notebook</a>'\n",
              "          + ' to learn more about interactive tables.';\n",
              "        element.innerHTML = '';\n",
              "        dataTable['output_type'] = 'display_data';\n",
              "        await google.colab.output.renderOutput(dataTable, element);\n",
              "        const docLink = document.createElement('div');\n",
              "        docLink.innerHTML = docLinkHtml;\n",
              "        element.appendChild(docLink);\n",
              "      }\n",
              "    </script>\n",
              "  </div>\n",
              "\n",
              "\n",
              "<div id=\"df-a5ae2908-cbf1-4b0c-9532-4a86a9df9b5b\">\n",
              "  <button class=\"colab-df-quickchart\" onclick=\"quickchart('df-a5ae2908-cbf1-4b0c-9532-4a86a9df9b5b')\"\n",
              "            title=\"Suggest charts\"\n",
              "            style=\"display:none;\">\n",
              "\n",
              "<svg xmlns=\"http://www.w3.org/2000/svg\" height=\"24px\"viewBox=\"0 0 24 24\"\n",
              "     width=\"24px\">\n",
              "    <g>\n",
              "        <path d=\"M19 3H5c-1.1 0-2 .9-2 2v14c0 1.1.9 2 2 2h14c1.1 0 2-.9 2-2V5c0-1.1-.9-2-2-2zM9 17H7v-7h2v7zm4 0h-2V7h2v10zm4 0h-2v-4h2v4z\"/>\n",
              "    </g>\n",
              "</svg>\n",
              "  </button>\n",
              "\n",
              "<style>\n",
              "  .colab-df-quickchart {\n",
              "      --bg-color: #E8F0FE;\n",
              "      --fill-color: #1967D2;\n",
              "      --hover-bg-color: #E2EBFA;\n",
              "      --hover-fill-color: #174EA6;\n",
              "      --disabled-fill-color: #AAA;\n",
              "      --disabled-bg-color: #DDD;\n",
              "  }\n",
              "\n",
              "  [theme=dark] .colab-df-quickchart {\n",
              "      --bg-color: #3B4455;\n",
              "      --fill-color: #D2E3FC;\n",
              "      --hover-bg-color: #434B5C;\n",
              "      --hover-fill-color: #FFFFFF;\n",
              "      --disabled-bg-color: #3B4455;\n",
              "      --disabled-fill-color: #666;\n",
              "  }\n",
              "\n",
              "  .colab-df-quickchart {\n",
              "    background-color: var(--bg-color);\n",
              "    border: none;\n",
              "    border-radius: 50%;\n",
              "    cursor: pointer;\n",
              "    display: none;\n",
              "    fill: var(--fill-color);\n",
              "    height: 32px;\n",
              "    padding: 0;\n",
              "    width: 32px;\n",
              "  }\n",
              "\n",
              "  .colab-df-quickchart:hover {\n",
              "    background-color: var(--hover-bg-color);\n",
              "    box-shadow: 0 1px 2px rgba(60, 64, 67, 0.3), 0 1px 3px 1px rgba(60, 64, 67, 0.15);\n",
              "    fill: var(--button-hover-fill-color);\n",
              "  }\n",
              "\n",
              "  .colab-df-quickchart-complete:disabled,\n",
              "  .colab-df-quickchart-complete:disabled:hover {\n",
              "    background-color: var(--disabled-bg-color);\n",
              "    fill: var(--disabled-fill-color);\n",
              "    box-shadow: none;\n",
              "  }\n",
              "\n",
              "  .colab-df-spinner {\n",
              "    border: 2px solid var(--fill-color);\n",
              "    border-color: transparent;\n",
              "    border-bottom-color: var(--fill-color);\n",
              "    animation:\n",
              "      spin 1s steps(1) infinite;\n",
              "  }\n",
              "\n",
              "  @keyframes spin {\n",
              "    0% {\n",
              "      border-color: transparent;\n",
              "      border-bottom-color: var(--fill-color);\n",
              "      border-left-color: var(--fill-color);\n",
              "    }\n",
              "    20% {\n",
              "      border-color: transparent;\n",
              "      border-left-color: var(--fill-color);\n",
              "      border-top-color: var(--fill-color);\n",
              "    }\n",
              "    30% {\n",
              "      border-color: transparent;\n",
              "      border-left-color: var(--fill-color);\n",
              "      border-top-color: var(--fill-color);\n",
              "      border-right-color: var(--fill-color);\n",
              "    }\n",
              "    40% {\n",
              "      border-color: transparent;\n",
              "      border-right-color: var(--fill-color);\n",
              "      border-top-color: var(--fill-color);\n",
              "    }\n",
              "    60% {\n",
              "      border-color: transparent;\n",
              "      border-right-color: var(--fill-color);\n",
              "    }\n",
              "    80% {\n",
              "      border-color: transparent;\n",
              "      border-right-color: var(--fill-color);\n",
              "      border-bottom-color: var(--fill-color);\n",
              "    }\n",
              "    90% {\n",
              "      border-color: transparent;\n",
              "      border-bottom-color: var(--fill-color);\n",
              "    }\n",
              "  }\n",
              "</style>\n",
              "\n",
              "  <script>\n",
              "    async function quickchart(key) {\n",
              "      const quickchartButtonEl =\n",
              "        document.querySelector('#' + key + ' button');\n",
              "      quickchartButtonEl.disabled = true;  // To prevent multiple clicks.\n",
              "      quickchartButtonEl.classList.add('colab-df-spinner');\n",
              "      try {\n",
              "        const charts = await google.colab.kernel.invokeFunction(\n",
              "            'suggestCharts', [key], {});\n",
              "      } catch (error) {\n",
              "        console.error('Error during call to suggestCharts:', error);\n",
              "      }\n",
              "      quickchartButtonEl.classList.remove('colab-df-spinner');\n",
              "      quickchartButtonEl.classList.add('colab-df-quickchart-complete');\n",
              "    }\n",
              "    (() => {\n",
              "      let quickchartButtonEl =\n",
              "        document.querySelector('#df-a5ae2908-cbf1-4b0c-9532-4a86a9df9b5b button');\n",
              "      quickchartButtonEl.style.display =\n",
              "        google.colab.kernel.accessAllowed ? 'block' : 'none';\n",
              "    })();\n",
              "  </script>\n",
              "</div>\n",
              "\n",
              "  <div id=\"id_960f39b7-df17-480c-838d-a5f6a7a40f95\">\n",
              "    <style>\n",
              "      .colab-df-generate {\n",
              "        background-color: #E8F0FE;\n",
              "        border: none;\n",
              "        border-radius: 50%;\n",
              "        cursor: pointer;\n",
              "        display: none;\n",
              "        fill: #1967D2;\n",
              "        height: 32px;\n",
              "        padding: 0 0 0 0;\n",
              "        width: 32px;\n",
              "      }\n",
              "\n",
              "      .colab-df-generate:hover {\n",
              "        background-color: #E2EBFA;\n",
              "        box-shadow: 0px 1px 2px rgba(60, 64, 67, 0.3), 0px 1px 3px 1px rgba(60, 64, 67, 0.15);\n",
              "        fill: #174EA6;\n",
              "      }\n",
              "\n",
              "      [theme=dark] .colab-df-generate {\n",
              "        background-color: #3B4455;\n",
              "        fill: #D2E3FC;\n",
              "      }\n",
              "\n",
              "      [theme=dark] .colab-df-generate:hover {\n",
              "        background-color: #434B5C;\n",
              "        box-shadow: 0px 1px 3px 1px rgba(0, 0, 0, 0.15);\n",
              "        filter: drop-shadow(0px 1px 2px rgba(0, 0, 0, 0.3));\n",
              "        fill: #FFFFFF;\n",
              "      }\n",
              "    </style>\n",
              "    <button class=\"colab-df-generate\" onclick=\"generateWithVariable('results_df')\"\n",
              "            title=\"Generate code using this dataframe.\"\n",
              "            style=\"display:none;\">\n",
              "\n",
              "  <svg xmlns=\"http://www.w3.org/2000/svg\" height=\"24px\"viewBox=\"0 0 24 24\"\n",
              "       width=\"24px\">\n",
              "    <path d=\"M7,19H8.4L18.45,9,17,7.55,7,17.6ZM5,21V16.75L18.45,3.32a2,2,0,0,1,2.83,0l1.4,1.43a1.91,1.91,0,0,1,.58,1.4,1.91,1.91,0,0,1-.58,1.4L9.25,21ZM18.45,9,17,7.55Zm-12,3A5.31,5.31,0,0,0,4.9,8.1,5.31,5.31,0,0,0,1,6.5,5.31,5.31,0,0,0,4.9,4.9,5.31,5.31,0,0,0,6.5,1,5.31,5.31,0,0,0,8.1,4.9,5.31,5.31,0,0,0,12,6.5,5.46,5.46,0,0,0,6.5,12Z\"/>\n",
              "  </svg>\n",
              "    </button>\n",
              "    <script>\n",
              "      (() => {\n",
              "      const buttonEl =\n",
              "        document.querySelector('#id_960f39b7-df17-480c-838d-a5f6a7a40f95 button.colab-df-generate');\n",
              "      buttonEl.style.display =\n",
              "        google.colab.kernel.accessAllowed ? 'block' : 'none';\n",
              "\n",
              "      buttonEl.onclick = () => {\n",
              "        google.colab.notebook.generateWithVariable('results_df');\n",
              "      }\n",
              "      })();\n",
              "    </script>\n",
              "  </div>\n",
              "\n",
              "    </div>\n",
              "  </div>\n"
            ],
            "text/plain": [
              "                Classifier                              Classification Report  \\\n",
              "0            Random Forest  {'0': {'precision': 0.9536598209583992, 'recal...   \n",
              "1            Decision Tree  {'0': {'precision': 0.8263119665879789, 'recal...   \n",
              "2                      KNN  {'0': {'precision': 0.8921854571055013, 'recal...   \n",
              "3      Logistic Regression  {'0': {'precision': 0.8465708522440747, 'recal...   \n",
              "4   Naive Bayes (Gaussian)  {'0': {'precision': 0.8204665161775772, 'recal...   \n",
              "5  Naive Bayes (Bernoulli)  {'0': {'precision': 0.590179254099057, 'recall...   \n",
              "6        Gradient Boosting  {'0': {'precision': 0.9417442261289211, 'recal...   \n",
              "7                 AdaBoost  {'0': {'precision': 0.8952808988764045, 'recal...   \n",
              "8              Extra Trees  {'0': {'precision': 0.9711431742508324, 'recal...   \n",
              "\n",
              "                Confusion Matrix  \n",
              "0   [[9055, 2050], [440, 13158]]  \n",
              "1  [[9101, 2004], [1913, 11685]]  \n",
              "2  [[8871, 2234], [1072, 12526]]  \n",
              "3  [[6715, 4390], [1217, 12381]]  \n",
              "4  [[5452, 5653], [1193, 12405]]  \n",
              "5   [[6947, 4158], [4824, 8774]]  \n",
              "6   [[8196, 2909], [507, 13091]]  \n",
              "7   [[7968, 3137], [932, 12666]]  \n",
              "8   [[8750, 2355], [260, 13338]]  "
            ]
          },
          "execution_count": 76,
          "metadata": {},
          "output_type": "execute_result"
        }
      ],
      "source": [
        "results_df = pd.DataFrame(results)\n",
        "results_df"
      ]
    },
    {
      "cell_type": "markdown",
      "metadata": {
        "id": "TnXO2Cjp6mrp"
      },
      "source": [
        "## Best Model Performance"
      ]
    },
    {
      "cell_type": "code",
      "execution_count": null,
      "metadata": {
        "colab": {
          "base_uri": "https://localhost:8080/",
          "height": 1000
        },
        "id": "zRggQcGs6p9U",
        "outputId": "df437592-0988-4b41-d3ad-68c5bf249898"
      },
      "outputs": [
        {
          "name": "stdout",
          "output_type": "stream",
          "text": [
            "Accuracy of Random Forest: 0.8992025260089868\n"
          ]
        },
        {
          "data": {
            "image/png": "[encoded data removed]",
            "text/plain": [
              "<Figure size 640x480 with 2 Axes>"
            ]
          },
          "metadata": {},
          "output_type": "display_data"
        },
        {
          "data": {
            "image/png": "[encoded data removed]",
            "text/plain": [
              "<Figure size 640x480 with 1 Axes>"
            ]
          },
          "metadata": {},
          "output_type": "display_data"
        },
        {
          "name": "stdout",
          "output_type": "stream",
          "text": [
            "Classification Report for Random Forest:\n",
            "               precision    recall  f1-score   support\n",
            "\n",
            "           0       0.95      0.82      0.88     11105\n",
            "           1       0.87      0.97      0.91     13598\n",
            "\n",
            "    accuracy                           0.90     24703\n",
            "   macro avg       0.91      0.89      0.90     24703\n",
            "weighted avg       0.90      0.90      0.90     24703\n",
            "\n"
          ]
        }
      ],
      "source": [
        "random_forest = RandomForestClassifier(random_state=seed)\n",
        "random_forest.fit(X_train, y_train)\n",
        "\n",
        "rf_pred = random_forest.predict(X_valid)\n",
        "rf_accuracy = accuracy_score(y_valid, rf_pred)\n",
        "print('Accuracy of Random Forest:', rf_accuracy)\n",
        "\n",
        "conf_mat = confusion_matrix(y_valid, rf_pred)\n",
        "sns.heatmap(conf_mat, annot=True, fmt='d')\n",
        "plt.title('Confusion Matrix for Random Forest')\n",
        "plt.show()\n",
        "\n",
        "importances = random_forest.feature_importances_\n",
        "plt.barh(range(len(importances)), importances)\n",
        "plt.yticks(range(len(X_train.columns)), X_train.columns)\n",
        "plt.title('Feature Importances for Random Forest')\n",
        "plt.show()\n",
        "\n",
        "report = classification_report(y_valid, rf_pred)\n",
        "print('Classification Report for Random Forest:\\n', report)"
      ]
    },
    {
      "cell_type": "markdown",
      "metadata": {
        "id": "CATD3dgA6pn0"
      },
      "source": [
        "## Prunning Best Model"
      ]
    },
    {
      "cell_type": "code",
      "execution_count": null,
      "metadata": {
        "colab": {
          "base_uri": "https://localhost:8080/",
          "height": 1000
        },
        "id": "QVbcETVA6u2h",
        "outputId": "45974a1b-6296-434a-df7b-27a5780e4386"
      },
      "outputs": [
        {
          "name": "stdout",
          "output_type": "stream",
          "text": [
            "Accuracy for the prunned Random Forest model: 0.8742662834473546\n",
            "Classification report for the prunned Random Forest model:\n",
            "               precision    recall  f1-score   support\n",
            "\n",
            "     Ethanol       0.97      0.75      0.84     11105\n",
            "    Gasoline       0.82      0.98      0.90     13598\n",
            "\n",
            "    accuracy                           0.87     24703\n",
            "   macro avg       0.90      0.86      0.87     24703\n",
            "weighted avg       0.89      0.87      0.87     24703\n",
            "\n"
          ]
        },
        {
          "data": {
            "image/png": "[encoded data removed]",
            "text/plain": [
              "<Figure size 1000x700 with 2 Axes>"
            ]
          },
          "metadata": {},
          "output_type": "display_data"
        },
        {
          "data": {
            "image/png": "[encoded data removed]",
            "text/plain": [
              "<Figure size 640x480 with 1 Axes>"
            ]
          },
          "metadata": {},
          "output_type": "display_data"
        }
      ],
      "source": [
        "random_forest_emb = RandomForestClassifier(\n",
        "    bootstrap=True,\n",
        "    ccp_alpha=0.0001,\n",
        "    class_weight=None,\n",
        "    criterion='gini',\n",
        "    max_depth=None,\n",
        "    max_features='sqrt',\n",
        "    max_leaf_nodes=None,\n",
        "    max_samples=None,\n",
        "    min_impurity_decrease=0.0,\n",
        "    min_samples_leaf=1,\n",
        "    min_samples_split=2,\n",
        "    min_weight_fraction_leaf=0.0,\n",
        "    monotonic_cst=None,\n",
        "    n_estimators=38,\n",
        "    n_jobs=None,\n",
        "    oob_score=True,\n",
        "    random_state=seed,\n",
        "    verbose=0,\n",
        "    warm_start=False,\n",
        ")\n",
        "\n",
        "\n",
        "random_forest_emb.fit(X_train, y_train)\n",
        "\n",
        "rf_pred = random_forest_emb.predict(X_valid)\n",
        "\n",
        "rf_accuracy = accuracy_score(y_valid, rf_pred)\n",
        "print('Accuracy for the prunned Random Forest model:', rf_accuracy)\n",
        "\n",
        "report = classification_report(y_valid, rf_pred, target_names=['Ethanol', 'Gasoline'])\n",
        "print('Classification report for the prunned Random Forest model:\\n', report)\n",
        "\n",
        "conf_mat = confusion_matrix(y_valid, rf_pred)\n",
        "plt.figure(figsize=(10, 7))\n",
        "sns.heatmap(conf_mat, annot=True, fmt='g', cmap='Blues', xticklabels=['Ethanol', 'Gasoline'], yticklabels=['Ethanol', 'Gasoline'])\n",
        "plt.xlabel('Predicted')\n",
        "plt.ylabel('True')\n",
        "plt.title('Confusion Matrix')\n",
        "plt.show()\n",
        "\n",
        "importances = random_forest_emb.feature_importances_\n",
        "plt.barh(range(len(importances)), importances)\n",
        "plt.yticks(range(len(X_train.columns)), X_train.columns)\n",
        "plt.title('Feature Importance for the prunned Random Forest model')\n",
        "plt.show()"
      ]
    },
    {
      "cell_type": "code",
      "execution_count": null,
      "metadata": {
        "id": "3B83p6kfHtNx"
      },
      "outputs": [],
      "source": [
        "# 38 -> 78.17"
      ]
    },
    {
      "cell_type": "markdown",
      "metadata": {
        "id": "WvLjTuf46vKH"
      },
      "source": [
        "## Embedding Prunned Model"
      ]
    },
    {
      "cell_type": "code",
      "execution_count": null,
      "metadata": {
        "id": "wkuWKP2q6zwM"
      },
      "outputs": [],
      "source": [
        "!pip install micromlgen>=1.1.26"
      ]
    },
    {
      "cell_type": "code",
      "execution_count": null,
      "metadata": {
        "id": "w784o8W29FkD"
      },
      "outputs": [],
      "source": [
        "from micromlgen import port, port_testset"
      ]
    },
    {
      "cell_type": "code",
      "execution_count": null,
      "metadata": {
        "colab": {
          "base_uri": "https://localhost:8080/"
        },
        "id": "qRHRe3Vq9IAn",
        "outputId": "22e27d31-6e19-4728-f692-e74fe0e573f6"
      },
      "outputs": [
        {
          "name": "stdout",
          "output_type": "stream",
          "text": [
            "Memory ocupancy of the model'classifier_default.h': 1637.84160 MB\n"
          ]
        }
      ],
      "source": [
        "file_path_default = 'classifier_default.h'\n",
        "with open(file_path_default, 'w') as file:\n",
        "  file.write(port(random_forest, classname='RandomForestClassifier', tmp_file='examples/RFC.json'))\n",
        "\n",
        "file_size_mb = (os.path.getsize(file_path_default)) / (1024 * 1024)\n",
        "print(f\"Memory ocupancy of the model'{file_path_default}': {file_size_mb:.5f} MB\")"
      ]
    },
    {
      "cell_type": "code",
      "execution_count": null,
      "metadata": {
        "colab": {
          "base_uri": "https://localhost:8080/"
        },
        "id": "2F6NgOyE9KVR",
        "outputId": "2c04eb48-f1f6-4432-896a-d78a20b2e14c"
      },
      "outputs": [
        {
          "name": "stdout",
          "output_type": "stream",
          "text": [
            "Memory ocupancy of the prunned model'classifier.h': 3.10261 MB\n"
          ]
        }
      ],
      "source": [
        "file_path = 'classifier.h'\n",
        "with open(file_path, 'w') as file:\n",
        "  file.write(port(random_forest_emb, classname='RandomForestClassifier', tmp_file='examples/RFC.json'))\n",
        "\n",
        "file_size_mb = (os.path.getsize(file_path)) / (1024 * 1024)\n",
        "print(f\"Memory ocupancy of the prunned model'{file_path}': {file_size_mb:.5f} MB\")"
      ]
    }
  ],
  "metadata": {
    "colab": {
      "provenance": []
    },
    "kernelspec": {
      "display_name": "Python 3",
      "name": "python3"
    },
    "language_info": {
      "name": "python"
    }
  },
  "nbformat": 4,
  "nbformat_minor": 0
}
